{
  "nbformat": 4,
  "nbformat_minor": 0,
  "metadata": {
    "colab": {
      "provenance": [],
      "gpuType": "T4",
      "authorship_tag": "ABX9TyMsJzRQr0yKxXXbiicMUtoF",
      "include_colab_link": true
    },
    "kernelspec": {
      "name": "python3",
      "display_name": "Python 3"
    },
    "language_info": {
      "name": "python"
    },
    "accelerator": "GPU"
  },
  "cells": [
    {
      "cell_type": "markdown",
      "metadata": {
        "id": "view-in-github",
        "colab_type": "text"
      },
      "source": [
        "<a href=\"https://colab.research.google.com/github/harshyadav1508/GGUF_Quantization_of_LLM/blob/main/exllamav2_gptq.ipynb\" target=\"_parent\"><img src=\"https://colab.research.google.com/assets/colab-badge.svg\" alt=\"Open In Colab\"/></a>"
      ]
    },
    {
      "cell_type": "code",
      "source": [
        "MODEL_REPO = \"qwen/Qwen1.5-1.8\"\n",
        "\n",
        "MODEL_NAME = MODEL_REPO.split('/')[0]\n",
        "BPW = 5.0\n",
        "\n",
        "# Download model\n",
        "!git lfs install\n",
        "!git clone https://huggingface.co/Qwen/Qwen1.5-1.8B\n",
        "!mv /content/Qwen1.5-1.8B base_model\n",
        "!rm base_model/*.bin\n",
        "\n",
        "# Download dataset\n",
        "!wget https://huggingface.co/datasets/wikitext/resolve/9a9e482b5987f9d25b3a9b2883fc6cc9fd8071b3/wikitext-103-v1/wikitext-test.parquet"
      ],
      "metadata": {
        "colab": {
          "base_uri": "https://localhost:8080/"
        },
        "id": "-Pwae6SSsfa7",
        "outputId": "f65b34b9-1d0f-4bcf-99f0-309f921e79d0"
      },
      "execution_count": null,
      "outputs": [
        {
          "output_type": "stream",
          "name": "stdout",
          "text": [
            "Git LFS initialized.\n",
            "Cloning into 'Qwen1.5-1.8B'...\n",
            "remote: Enumerating objects: 70, done.\u001b[K\n",
            "remote: Counting objects: 100% (66/66), done.\u001b[K\n",
            "remote: Compressing objects: 100% (66/66), done.\u001b[K\n",
            "remote: Total 70 (delta 31), reused 0 (delta 0), pack-reused 4\u001b[K\n",
            "Unpacking objects: 100% (70/70), 3.61 MiB | 4.24 MiB/s, done.\n",
            "rm: cannot remove 'base_model/*.bin': No such file or directory\n",
            "--2024-03-17 14:07:30--  https://huggingface.co/datasets/wikitext/resolve/9a9e482b5987f9d25b3a9b2883fc6cc9fd8071b3/wikitext-103-v1/wikitext-test.parquet\n",
            "Resolving huggingface.co (huggingface.co)... 13.33.33.110, 13.33.33.102, 13.33.33.20, ...\n",
            "Connecting to huggingface.co (huggingface.co)|13.33.33.110|:443... connected.\n",
            "HTTP request sent, awaiting response... 200 OK\n",
            "Length: 721735 (705K)\n",
            "Saving to: ‘wikitext-test.parquet’\n",
            "\n",
            "wikitext-test.parqu 100%[===================>] 704.82K  2.75MB/s    in 0.2s    \n",
            "\n",
            "2024-03-17 14:07:31 (2.75 MB/s) - ‘wikitext-test.parquet’ saved [721735/721735]\n",
            "\n"
          ]
        }
      ]
    },
    {
      "cell_type": "code",
      "source": [
        "print('hi')"
      ],
      "metadata": {
        "id": "SttSR38AybjZ"
      },
      "execution_count": null,
      "outputs": []
    },
    {
      "cell_type": "code",
      "source": [],
      "metadata": {
        "id": "ZGrm2YqYydIU"
      },
      "execution_count": null,
      "outputs": []
    }
  ]
}